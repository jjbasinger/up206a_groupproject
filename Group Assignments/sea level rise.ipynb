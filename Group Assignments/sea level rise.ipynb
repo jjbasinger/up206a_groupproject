{
 "cells": [
  {
   "cell_type": "code",
   "execution_count": 1,
   "id": "2b0dea21-e809-4d02-aa86-2bb242afd089",
   "metadata": {},
   "outputs": [],
   "source": [
    "import pandas as pd\n",
    "import geopandas as gpd\n",
    "import contextily as ctx\n",
    "import matplotlib.pyplot as plt\n",
    "import fiona"
   ]
  },
  {
   "cell_type": "code",
   "execution_count": 2,
   "id": "9882845c-55bb-4099-849a-8b79c6a82359",
   "metadata": {},
   "outputs": [],
   "source": [
    "#slr = gpd.read_file('../currentdata/NYCFutureHighTideWithSLR.gdb')"
   ]
  },
  {
   "cell_type": "code",
   "execution_count": 3,
   "id": "30c4180c-badb-4fdf-9f96-df8ea8e8a217",
   "metadata": {},
   "outputs": [],
   "source": [
    "#slr.info()"
   ]
  },
  {
   "cell_type": "code",
   "execution_count": 4,
   "id": "f452cc6b-83d5-4615-8a3d-0f9509ea3121",
   "metadata": {},
   "outputs": [],
   "source": [
    "#slr.plot()"
   ]
  },
  {
   "cell_type": "code",
   "execution_count": 5,
   "id": "6a758529-5232-41ee-ac42-edfeef77fe86",
   "metadata": {},
   "outputs": [],
   "source": [
    "layers = fiona.listlayers('../currentdata/NYCFutureHighTideWithSLR.gdb')"
   ]
  },
  {
   "cell_type": "code",
   "execution_count": 6,
   "id": "f9893a99-b41e-4540-8098-499fa97033ce",
   "metadata": {},
   "outputs": [
    {
     "data": {
      "text/plain": [
       "['DCP_WOS_SLR2020s02in',\n",
       " 'DCP_WOS_SLR2020s04in',\n",
       " 'DCP_WOS_SLR2020s06in',\n",
       " 'DCP_WOS_SLR2020s08in',\n",
       " 'DCP_WOS_SLR2020s10in',\n",
       " 'DCP_WOS_SLR2050s08in',\n",
       " 'DCP_WOS_SLR2050s11in',\n",
       " 'DCP_WOS_SLR2050s16in',\n",
       " 'DCP_WOS_SLR2050s21in',\n",
       " 'DCP_WOS_SLR2050s30in',\n",
       " 'DCP_WOS_SLR2080s13in',\n",
       " 'DCP_WOS_SLR2080s18in',\n",
       " 'DCP_WOS_SLR2080s29in',\n",
       " 'DCP_WOS_SLR2080s39in',\n",
       " 'DCP_WOS_SLR2080s58in',\n",
       " 'DCP_WOS_SLR2100s15in',\n",
       " 'DCP_WOS_SLR2100s22in',\n",
       " 'DCP_WOS_SLR2100s36in',\n",
       " 'DCP_WOS_SLR2100s50in',\n",
       " 'DCP_WOS_SLR2100s75in']"
      ]
     },
     "execution_count": 6,
     "metadata": {},
     "output_type": "execute_result"
    }
   ],
   "source": [
    "layers"
   ]
  },
  {
   "cell_type": "code",
   "execution_count": null,
   "id": "e6745e67-6bf1-45d1-a7ea-3219d6578c36",
   "metadata": {},
   "outputs": [],
   "source": [
    "for layer in layers:\n",
    "    nycslrs = gpd.read_file('../currentdata/NYCFutureHighTideWithSLR.gdb',layer=layer)"
   ]
  },
  {
   "cell_type": "code",
   "execution_count": null,
   "id": "202f7341-253c-4782-8aed-033a7354430d",
   "metadata": {},
   "outputs": [],
   "source": [
    "nycslrs.info()"
   ]
  },
  {
   "cell_type": "code",
   "execution_count": null,
   "id": "7c72ee3b-68ff-43f9-a447-51ee43db9d34",
   "metadata": {},
   "outputs": [],
   "source": []
  }
 ],
 "metadata": {
  "kernelspec": {
   "display_name": "Python 3 (ipykernel)",
   "language": "python",
   "name": "python3"
  },
  "language_info": {
   "codemirror_mode": {
    "name": "ipython",
    "version": 3
   },
   "file_extension": ".py",
   "mimetype": "text/x-python",
   "name": "python",
   "nbconvert_exporter": "python",
   "pygments_lexer": "ipython3",
   "version": "3.9.6"
  }
 },
 "nbformat": 4,
 "nbformat_minor": 5
}
